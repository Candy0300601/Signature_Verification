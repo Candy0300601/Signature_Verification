from cryptography.hazmat.backends import default_backend
from cryptography.hazmat.primitives import serialization, hashes
from cryptography.hazmat.primitives.asymmetric import ec
from cryptography.exceptions import InvalidSignature

def load_public_key(public_key_text):
    try:
        # Construct PEM formatted public key string
        pem_data = f"-----BEGIN PUBLIC KEY-----\n{public_key_text}\n-----END PUBLIC KEY-----\n"
        # Load PEM formatted public key
        public_key = serialization.load_pem_public_key(pem_data.encode(), backend=default_backend())
        return public_key
    except Exception as e:
        print("Error loading public key:", e)
        return None

def verify_signature(hash_value, signature, public_key, algorithm):
    backend = default_backend()
    
    if algorithm.startswith("ECDSA"):
        if "secp256k1" in algorithm:
            hash_algorithm = hashes.SHA256()
        else:
            hash_algorithm = hashes.get_hash_algorithm_by_name(algorithm.split()[-1])()
        try:
            public_key.verify(signature, hash_value, ec.ECDSA(hash_algorithm))
            return True
        except InvalidSignature:
            return False

    # Add verification for other algorithms if needed...

    else:
        return False

# Example usage:
hash_value_hex = input("Enter the hash value (in hexadecimal): ")  # Input the hash value in hexadecimal
signature_input = bytes.fromhex(input("Enter the signature: "))  # Input the signature

# Input the public key
while True:
    public_key_text = input("Enter the public key text (in hex or base64 format): ")
    public_key = load_public_key(public_key_text)
    if public_key:
        break
    else:
        print("Invalid public key format. Please try again.")

algorithm = "ECDSA secp256k1"  # Replace with the actual algorithm

# Verify the signature
if verify_signature(bytes.fromhex(hash_value_hex), signature_input, public_key, algorithm):
    print("Signature is valid.")
else:
    print("Signature is invalid.")
