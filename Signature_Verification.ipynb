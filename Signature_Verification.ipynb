from cryptography.hazmat.backends import default_backend
from cryptography.hazmat.primitives import serialization, hashes
from cryptography.hazmat.primitives.asymmetric import ec
from cryptography.exceptions import InvalidSignature

def verify_signature(hash_value, signature, public_key, algorithm):
    backend = default_backend()
    
    if algorithm.startswith("ECDSA"):
        if "secp256k1" in algorithm:
            hash_algorithm = hashes.SHA256()
        else:
            hash_algorithm = hashes.get_hash_algorithm_by_name(algorithm.split()[-1])()
        try:
            public_key.verify(signature, hash_value, ec.ECDSA(hash_algorithm))
            return True
        except InvalidSignature:
            return False

    # Add verification for other algorithms if needed...

    else:
        return False

# Example usage:
hash_value_hex = input("Enter the hash value (in hexadecimal): ")  # Input the hash value in hexadecimal
signature_input = bytes.fromhex(input("Enter the signature: "))  # Input the signature
public_key_input = serialization.load_pem_public_key(input("Enter the public key: ").encode(), backend=default_backend())  # Input the public key
algorithm = "ECDSA secp256k1"  # Replace with the actual algorithm

# Verify the signature
if verify_signature(bytes.fromhex(hash_value_hex), signature_input, public_key_input, algorithm):
    print("Signature is valid.")
else:
    print("Signature is invalid.")
